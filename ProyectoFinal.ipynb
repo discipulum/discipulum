{
  "nbformat": 4,
  "nbformat_minor": 0,
  "metadata": {
    "colab": {
      "name": "ProyectoFinal.ipynb",
      "provenance": [],
      "include_colab_link": true
    },
    "kernelspec": {
      "name": "python3",
      "display_name": "Python 3"
    },
    "language_info": {
      "name": "python"
    }
  },
  "cells": [
    {
      "cell_type": "markdown",
      "metadata": {
        "id": "view-in-github",
        "colab_type": "text"
      },
      "source": [
        "<a href=\"https://colab.research.google.com/github/discipulum/discipulum/blob/master/ProyectoFinal.ipynb\" target=\"_parent\"><img src=\"https://colab.research.google.com/assets/colab-badge.svg\" alt=\"Open In Colab\"/></a>"
      ]
    },
    {
      "cell_type": "code",
      "metadata": {
        "id": "vqId_JjxNHYf"
      },
      "source": [
        "# Import packages\n",
        "import numpy as np\n",
        "import pandas as pd\n",
        "import matplotlib.pyplot as plt\n",
        "import seaborn as sns "
      ],
      "execution_count": null,
      "outputs": []
    },
    {
      "cell_type": "code",
      "metadata": {
        "id": "R9LJAehiNYU5"
      },
      "source": [
        "wc = pd.read_csv('World Cup 2018 Dataset.csv')"
      ],
      "execution_count": null,
      "outputs": []
    },
    {
      "cell_type": "code",
      "metadata": {
        "colab": {
          "base_uri": "https://localhost:8080/",
          "height": 281
        },
        "id": "GMzWzlOUNfYD",
        "outputId": "80e97314-a7c9-4d4f-ea30-39b66884e52a"
      },
      "source": [
        "wc.head(3)"
      ],
      "execution_count": null,
      "outputs": [
        {
          "output_type": "execute_result",
          "data": {
            "text/html": [
              "<div>\n",
              "<style scoped>\n",
              "    .dataframe tbody tr th:only-of-type {\n",
              "        vertical-align: middle;\n",
              "    }\n",
              "\n",
              "    .dataframe tbody tr th {\n",
              "        vertical-align: top;\n",
              "    }\n",
              "\n",
              "    .dataframe thead th {\n",
              "        text-align: right;\n",
              "    }\n",
              "</style>\n",
              "<table border=\"1\" class=\"dataframe\">\n",
              "  <thead>\n",
              "    <tr style=\"text-align: right;\">\n",
              "      <th></th>\n",
              "      <th>Team</th>\n",
              "      <th>Group</th>\n",
              "      <th>Previous \\nappearances</th>\n",
              "      <th>Previous \\ntitles</th>\n",
              "      <th>Previous\\n finals</th>\n",
              "      <th>Previous\\n semifinals</th>\n",
              "      <th>Current \\nFIFA rank</th>\n",
              "      <th>First match \\nagainst</th>\n",
              "      <th>Match index</th>\n",
              "      <th>history with \\nfirst opponent\\n W-L</th>\n",
              "      <th>history with\\n first opponent\\n goals</th>\n",
              "      <th>Second match\\n against</th>\n",
              "      <th>Match index.1</th>\n",
              "      <th>history with\\n second opponent\\n W-L</th>\n",
              "      <th>history with\\n second opponent\\n goals</th>\n",
              "      <th>Third match\\n against</th>\n",
              "      <th>Match index.2</th>\n",
              "      <th>history with\\n third opponent\\n W-L</th>\n",
              "      <th>history with\\n third opponent\\n goals</th>\n",
              "      <th>Unnamed: 19</th>\n",
              "    </tr>\n",
              "  </thead>\n",
              "  <tbody>\n",
              "    <tr>\n",
              "      <th>0</th>\n",
              "      <td>Russia</td>\n",
              "      <td>A</td>\n",
              "      <td>10.0</td>\n",
              "      <td>0.0</td>\n",
              "      <td>0.0</td>\n",
              "      <td>1.0</td>\n",
              "      <td>65.0</td>\n",
              "      <td>Saudi Arabia</td>\n",
              "      <td>1.0</td>\n",
              "      <td>-1.0</td>\n",
              "      <td>-2.0</td>\n",
              "      <td>Egypt</td>\n",
              "      <td>17.0</td>\n",
              "      <td>NaN</td>\n",
              "      <td>NaN</td>\n",
              "      <td>Uruguay</td>\n",
              "      <td>33.0</td>\n",
              "      <td>0.0</td>\n",
              "      <td>0.0</td>\n",
              "      <td>NaN</td>\n",
              "    </tr>\n",
              "    <tr>\n",
              "      <th>1</th>\n",
              "      <td>Saudi Arabia</td>\n",
              "      <td>A</td>\n",
              "      <td>4.0</td>\n",
              "      <td>0.0</td>\n",
              "      <td>0.0</td>\n",
              "      <td>0.0</td>\n",
              "      <td>63.0</td>\n",
              "      <td>Russia</td>\n",
              "      <td>1.0</td>\n",
              "      <td>1.0</td>\n",
              "      <td>2.0</td>\n",
              "      <td>Uruguay</td>\n",
              "      <td>18.0</td>\n",
              "      <td>1.0</td>\n",
              "      <td>1.0</td>\n",
              "      <td>Egypt</td>\n",
              "      <td>34.0</td>\n",
              "      <td>-5.0</td>\n",
              "      <td>-5.0</td>\n",
              "      <td>NaN</td>\n",
              "    </tr>\n",
              "    <tr>\n",
              "      <th>2</th>\n",
              "      <td>Egypt</td>\n",
              "      <td>A</td>\n",
              "      <td>2.0</td>\n",
              "      <td>0.0</td>\n",
              "      <td>0.0</td>\n",
              "      <td>0.0</td>\n",
              "      <td>31.0</td>\n",
              "      <td>Uruguay</td>\n",
              "      <td>2.0</td>\n",
              "      <td>-1.0</td>\n",
              "      <td>-2.0</td>\n",
              "      <td>Russia</td>\n",
              "      <td>17.0</td>\n",
              "      <td>NaN</td>\n",
              "      <td>NaN</td>\n",
              "      <td>Saudi Arabia</td>\n",
              "      <td>34.0</td>\n",
              "      <td>5.0</td>\n",
              "      <td>5.0</td>\n",
              "      <td>NaN</td>\n",
              "    </tr>\n",
              "  </tbody>\n",
              "</table>\n",
              "</div>"
            ],
            "text/plain": [
              "           Team Group  ...  history with\\n third opponent\\n goals  Unnamed: 19\n",
              "0        Russia     A  ...                                    0.0          NaN\n",
              "1  Saudi Arabia     A  ...                                   -5.0          NaN\n",
              "2         Egypt     A  ...                                    5.0          NaN\n",
              "\n",
              "[3 rows x 20 columns]"
            ]
          },
          "metadata": {
            "tags": []
          },
          "execution_count": 4
        }
      ]
    },
    {
      "cell_type": "code",
      "metadata": {
        "colab": {
          "base_uri": "https://localhost:8080/"
        },
        "id": "htKqycjGNlcY",
        "outputId": "2a910990-b0bc-4880-eda0-974901f917ae"
      },
      "source": [
        "wc.size\n",
        "wc.shape"
      ],
      "execution_count": null,
      "outputs": [
        {
          "output_type": "execute_result",
          "data": {
            "text/plain": [
              "(33, 20)"
            ]
          },
          "metadata": {
            "tags": []
          },
          "execution_count": 8
        }
      ]
    },
    {
      "cell_type": "code",
      "metadata": {
        "colab": {
          "base_uri": "https://localhost:8080/",
          "height": 292
        },
        "id": "yQAghIuoNqXm",
        "outputId": "b2aa4ee4-d81c-4098-a215-8ff7ff1cf63f"
      },
      "source": [
        "wc.tail(5)"
      ],
      "execution_count": null,
      "outputs": [
        {
          "output_type": "execute_result",
          "data": {
            "text/html": [
              "<div>\n",
              "<style scoped>\n",
              "    .dataframe tbody tr th:only-of-type {\n",
              "        vertical-align: middle;\n",
              "    }\n",
              "\n",
              "    .dataframe tbody tr th {\n",
              "        vertical-align: top;\n",
              "    }\n",
              "\n",
              "    .dataframe thead th {\n",
              "        text-align: right;\n",
              "    }\n",
              "</style>\n",
              "<table border=\"1\" class=\"dataframe\">\n",
              "  <thead>\n",
              "    <tr style=\"text-align: right;\">\n",
              "      <th></th>\n",
              "      <th>Team</th>\n",
              "      <th>Group</th>\n",
              "      <th>Previous \\nappearances</th>\n",
              "      <th>Previous \\ntitles</th>\n",
              "      <th>Previous\\n finals</th>\n",
              "      <th>Previous\\n semifinals</th>\n",
              "      <th>Current \\nFIFA rank</th>\n",
              "      <th>First match \\nagainst</th>\n",
              "      <th>Match index</th>\n",
              "      <th>history with \\nfirst opponent\\n W-L</th>\n",
              "      <th>history with\\n first opponent\\n goals</th>\n",
              "      <th>Second match\\n against</th>\n",
              "      <th>Match index.1</th>\n",
              "      <th>history with\\n second opponent\\n W-L</th>\n",
              "      <th>history with\\n second opponent\\n goals</th>\n",
              "      <th>Third match\\n against</th>\n",
              "      <th>Match index.2</th>\n",
              "      <th>history with\\n third opponent\\n W-L</th>\n",
              "      <th>history with\\n third opponent\\n goals</th>\n",
              "      <th>Unnamed: 19</th>\n",
              "    </tr>\n",
              "  </thead>\n",
              "  <tbody>\n",
              "    <tr>\n",
              "      <th>28</th>\n",
              "      <td>Poland</td>\n",
              "      <td>H</td>\n",
              "      <td>7.0</td>\n",
              "      <td>0.0</td>\n",
              "      <td>0.0</td>\n",
              "      <td>2.0</td>\n",
              "      <td>7.0</td>\n",
              "      <td>Senegal</td>\n",
              "      <td>15.0</td>\n",
              "      <td>NaN</td>\n",
              "      <td>NaN</td>\n",
              "      <td>Columbia</td>\n",
              "      <td>31.0</td>\n",
              "      <td>NaN</td>\n",
              "      <td>NaN</td>\n",
              "      <td>Japan</td>\n",
              "      <td>47.0</td>\n",
              "      <td>2.0</td>\n",
              "      <td>3.0</td>\n",
              "      <td>NaN</td>\n",
              "    </tr>\n",
              "    <tr>\n",
              "      <th>29</th>\n",
              "      <td>Senegal</td>\n",
              "      <td>H</td>\n",
              "      <td>1.0</td>\n",
              "      <td>0.0</td>\n",
              "      <td>0.0</td>\n",
              "      <td>0.0</td>\n",
              "      <td>23.0</td>\n",
              "      <td>Poland</td>\n",
              "      <td>15.0</td>\n",
              "      <td>NaN</td>\n",
              "      <td>NaN</td>\n",
              "      <td>Japan</td>\n",
              "      <td>32.0</td>\n",
              "      <td>2.0</td>\n",
              "      <td>3.0</td>\n",
              "      <td>Columbia</td>\n",
              "      <td>48.0</td>\n",
              "      <td>0.0</td>\n",
              "      <td>0.0</td>\n",
              "      <td>NaN</td>\n",
              "    </tr>\n",
              "    <tr>\n",
              "      <th>30</th>\n",
              "      <td>Columbia</td>\n",
              "      <td>H</td>\n",
              "      <td>5.0</td>\n",
              "      <td>0.0</td>\n",
              "      <td>0.0</td>\n",
              "      <td>0.0</td>\n",
              "      <td>13.0</td>\n",
              "      <td>Japan</td>\n",
              "      <td>16.0</td>\n",
              "      <td>2.0</td>\n",
              "      <td>2.0</td>\n",
              "      <td>Poland</td>\n",
              "      <td>31.0</td>\n",
              "      <td>NaN</td>\n",
              "      <td>NaN</td>\n",
              "      <td>Senegal</td>\n",
              "      <td>48.0</td>\n",
              "      <td>0.0</td>\n",
              "      <td>0.0</td>\n",
              "      <td>NaN</td>\n",
              "    </tr>\n",
              "    <tr>\n",
              "      <th>31</th>\n",
              "      <td>Japan</td>\n",
              "      <td>H</td>\n",
              "      <td>5.0</td>\n",
              "      <td>0.0</td>\n",
              "      <td>0.0</td>\n",
              "      <td>0.0</td>\n",
              "      <td>55.0</td>\n",
              "      <td>Columbia</td>\n",
              "      <td>16.0</td>\n",
              "      <td>-2.0</td>\n",
              "      <td>-2.0</td>\n",
              "      <td>Senegal</td>\n",
              "      <td>32.0</td>\n",
              "      <td>-2.0</td>\n",
              "      <td>-3.0</td>\n",
              "      <td>Poland</td>\n",
              "      <td>47.0</td>\n",
              "      <td>-2.0</td>\n",
              "      <td>-3.0</td>\n",
              "      <td>NaN</td>\n",
              "    </tr>\n",
              "    <tr>\n",
              "      <th>32</th>\n",
              "      <td>NaN</td>\n",
              "      <td>NaN</td>\n",
              "      <td>NaN</td>\n",
              "      <td>NaN</td>\n",
              "      <td>NaN</td>\n",
              "      <td>NaN</td>\n",
              "      <td>NaN</td>\n",
              "      <td>NaN</td>\n",
              "      <td>NaN</td>\n",
              "      <td>NaN</td>\n",
              "      <td>NaN</td>\n",
              "      <td>NaN</td>\n",
              "      <td>NaN</td>\n",
              "      <td>NaN</td>\n",
              "      <td>NaN</td>\n",
              "      <td>NaN</td>\n",
              "      <td>NaN</td>\n",
              "      <td>NaN</td>\n",
              "      <td>NaN</td>\n",
              "      <td>NaN</td>\n",
              "    </tr>\n",
              "  </tbody>\n",
              "</table>\n",
              "</div>"
            ],
            "text/plain": [
              "        Team Group  ...  history with\\n third opponent\\n goals  Unnamed: 19\n",
              "28    Poland     H  ...                                    3.0          NaN\n",
              "29   Senegal     H  ...                                    0.0          NaN\n",
              "30  Columbia     H  ...                                    0.0          NaN\n",
              "31     Japan     H  ...                                   -3.0          NaN\n",
              "32       NaN   NaN  ...                                    NaN          NaN\n",
              "\n",
              "[5 rows x 20 columns]"
            ]
          },
          "metadata": {
            "tags": []
          },
          "execution_count": 6
        }
      ]
    },
    {
      "cell_type": "code",
      "metadata": {
        "id": "7NOeTCPjNtEd"
      },
      "source": [
        "# dataset results\n",
        "\n",
        "results = pd.read_csv('results.csv')"
      ],
      "execution_count": null,
      "outputs": []
    },
    {
      "cell_type": "code",
      "metadata": {
        "colab": {
          "base_uri": "https://localhost:8080/",
          "height": 359
        },
        "id": "ZRIto0vtPy4m",
        "outputId": "c391c5d2-21ad-44ee-cd6e-4efaedbb7273"
      },
      "source": [
        "results.head(10)"
      ],
      "execution_count": null,
      "outputs": [
        {
          "output_type": "execute_result",
          "data": {
            "text/html": [
              "<div>\n",
              "<style scoped>\n",
              "    .dataframe tbody tr th:only-of-type {\n",
              "        vertical-align: middle;\n",
              "    }\n",
              "\n",
              "    .dataframe tbody tr th {\n",
              "        vertical-align: top;\n",
              "    }\n",
              "\n",
              "    .dataframe thead th {\n",
              "        text-align: right;\n",
              "    }\n",
              "</style>\n",
              "<table border=\"1\" class=\"dataframe\">\n",
              "  <thead>\n",
              "    <tr style=\"text-align: right;\">\n",
              "      <th></th>\n",
              "      <th>date</th>\n",
              "      <th>home_team</th>\n",
              "      <th>away_team</th>\n",
              "      <th>home_score</th>\n",
              "      <th>away_score</th>\n",
              "      <th>tournament</th>\n",
              "      <th>city</th>\n",
              "      <th>country</th>\n",
              "    </tr>\n",
              "  </thead>\n",
              "  <tbody>\n",
              "    <tr>\n",
              "      <th>0</th>\n",
              "      <td>1872-11-30</td>\n",
              "      <td>Scotland</td>\n",
              "      <td>England</td>\n",
              "      <td>0</td>\n",
              "      <td>0</td>\n",
              "      <td>Friendly</td>\n",
              "      <td>Glasgow</td>\n",
              "      <td>Scotland</td>\n",
              "    </tr>\n",
              "    <tr>\n",
              "      <th>1</th>\n",
              "      <td>1873-03-08</td>\n",
              "      <td>England</td>\n",
              "      <td>Scotland</td>\n",
              "      <td>4</td>\n",
              "      <td>2</td>\n",
              "      <td>Friendly</td>\n",
              "      <td>London</td>\n",
              "      <td>England</td>\n",
              "    </tr>\n",
              "    <tr>\n",
              "      <th>2</th>\n",
              "      <td>1874-03-07</td>\n",
              "      <td>Scotland</td>\n",
              "      <td>England</td>\n",
              "      <td>2</td>\n",
              "      <td>1</td>\n",
              "      <td>Friendly</td>\n",
              "      <td>Glasgow</td>\n",
              "      <td>Scotland</td>\n",
              "    </tr>\n",
              "    <tr>\n",
              "      <th>3</th>\n",
              "      <td>1875-03-06</td>\n",
              "      <td>England</td>\n",
              "      <td>Scotland</td>\n",
              "      <td>2</td>\n",
              "      <td>2</td>\n",
              "      <td>Friendly</td>\n",
              "      <td>London</td>\n",
              "      <td>England</td>\n",
              "    </tr>\n",
              "    <tr>\n",
              "      <th>4</th>\n",
              "      <td>1876-03-04</td>\n",
              "      <td>Scotland</td>\n",
              "      <td>England</td>\n",
              "      <td>3</td>\n",
              "      <td>0</td>\n",
              "      <td>Friendly</td>\n",
              "      <td>Glasgow</td>\n",
              "      <td>Scotland</td>\n",
              "    </tr>\n",
              "    <tr>\n",
              "      <th>5</th>\n",
              "      <td>1876-03-25</td>\n",
              "      <td>Scotland</td>\n",
              "      <td>Wales</td>\n",
              "      <td>4</td>\n",
              "      <td>0</td>\n",
              "      <td>Friendly</td>\n",
              "      <td>Glasgow</td>\n",
              "      <td>Scotland</td>\n",
              "    </tr>\n",
              "    <tr>\n",
              "      <th>6</th>\n",
              "      <td>1877-03-03</td>\n",
              "      <td>England</td>\n",
              "      <td>Scotland</td>\n",
              "      <td>1</td>\n",
              "      <td>3</td>\n",
              "      <td>Friendly</td>\n",
              "      <td>London</td>\n",
              "      <td>England</td>\n",
              "    </tr>\n",
              "    <tr>\n",
              "      <th>7</th>\n",
              "      <td>1877-03-05</td>\n",
              "      <td>Wales</td>\n",
              "      <td>Scotland</td>\n",
              "      <td>0</td>\n",
              "      <td>2</td>\n",
              "      <td>Friendly</td>\n",
              "      <td>Wrexham</td>\n",
              "      <td>Wales</td>\n",
              "    </tr>\n",
              "    <tr>\n",
              "      <th>8</th>\n",
              "      <td>1878-03-02</td>\n",
              "      <td>Scotland</td>\n",
              "      <td>England</td>\n",
              "      <td>7</td>\n",
              "      <td>2</td>\n",
              "      <td>Friendly</td>\n",
              "      <td>Glasgow</td>\n",
              "      <td>Scotland</td>\n",
              "    </tr>\n",
              "    <tr>\n",
              "      <th>9</th>\n",
              "      <td>1878-03-23</td>\n",
              "      <td>Scotland</td>\n",
              "      <td>Wales</td>\n",
              "      <td>9</td>\n",
              "      <td>0</td>\n",
              "      <td>Friendly</td>\n",
              "      <td>Glasgow</td>\n",
              "      <td>Scotland</td>\n",
              "    </tr>\n",
              "  </tbody>\n",
              "</table>\n",
              "</div>"
            ],
            "text/plain": [
              "         date home_team away_team  ...  tournament     city   country\n",
              "0  1872-11-30  Scotland   England  ...    Friendly  Glasgow  Scotland\n",
              "1  1873-03-08   England  Scotland  ...    Friendly   London   England\n",
              "2  1874-03-07  Scotland   England  ...    Friendly  Glasgow  Scotland\n",
              "3  1875-03-06   England  Scotland  ...    Friendly   London   England\n",
              "4  1876-03-04  Scotland   England  ...    Friendly  Glasgow  Scotland\n",
              "5  1876-03-25  Scotland     Wales  ...    Friendly  Glasgow  Scotland\n",
              "6  1877-03-03   England  Scotland  ...    Friendly   London   England\n",
              "7  1877-03-05     Wales  Scotland  ...    Friendly  Wrexham     Wales\n",
              "8  1878-03-02  Scotland   England  ...    Friendly  Glasgow  Scotland\n",
              "9  1878-03-23  Scotland     Wales  ...    Friendly  Glasgow  Scotland\n",
              "\n",
              "[10 rows x 8 columns]"
            ]
          },
          "metadata": {
            "tags": []
          },
          "execution_count": 10
        }
      ]
    },
    {
      "cell_type": "code",
      "metadata": {
        "id": "-pcmrEsyP1Os"
      },
      "source": [
        "# agregar columna GANADOR (winner)\n",
        "\n",
        "winner = []\n",
        "\n",
        "# verificar quien ganó o si fue un empate\n",
        "for i in range(len(results['home_team'])):\n",
        "    if results['home_score'][i] > results['away_score'][i]:\n",
        "        winner.append(results['home_team'][i])\n",
        "    elif results['home_score'][i] < results['away_score'][i]:\n",
        "        winner.append(results['away_team'][i])\n",
        "    else:\n",
        "        winner.append('Tie')\n",
        "\n",
        "results['winning_team'] = winner\n",
        "\n",
        "# nueva columna \"goal_difference\"\n",
        "results['goal_difference'] = np.absolute(results['home_score'] - results['away_score'])"
      ],
      "execution_count": null,
      "outputs": []
    },
    {
      "cell_type": "code",
      "metadata": {
        "colab": {
          "base_uri": "https://localhost:8080/",
          "height": 266
        },
        "id": "HT0AH3r_RJua",
        "outputId": "f6adc689-36a1-439b-95d9-84cf402287f6"
      },
      "source": [
        "results.tail(7)"
      ],
      "execution_count": null,
      "outputs": [
        {
          "output_type": "execute_result",
          "data": {
            "text/html": [
              "<div>\n",
              "<style scoped>\n",
              "    .dataframe tbody tr th:only-of-type {\n",
              "        vertical-align: middle;\n",
              "    }\n",
              "\n",
              "    .dataframe tbody tr th {\n",
              "        vertical-align: top;\n",
              "    }\n",
              "\n",
              "    .dataframe thead th {\n",
              "        text-align: right;\n",
              "    }\n",
              "</style>\n",
              "<table border=\"1\" class=\"dataframe\">\n",
              "  <thead>\n",
              "    <tr style=\"text-align: right;\">\n",
              "      <th></th>\n",
              "      <th>date</th>\n",
              "      <th>home_team</th>\n",
              "      <th>away_team</th>\n",
              "      <th>home_score</th>\n",
              "      <th>away_score</th>\n",
              "      <th>tournament</th>\n",
              "      <th>city</th>\n",
              "      <th>country</th>\n",
              "      <th>winning_team</th>\n",
              "      <th>goal_difference</th>\n",
              "    </tr>\n",
              "  </thead>\n",
              "  <tbody>\n",
              "    <tr>\n",
              "      <th>38895</th>\n",
              "      <td>2018-03-27</td>\n",
              "      <td>Namibia</td>\n",
              "      <td>Lesotho</td>\n",
              "      <td>2</td>\n",
              "      <td>1</td>\n",
              "      <td>Friendly</td>\n",
              "      <td>Windhoek</td>\n",
              "      <td>Namibia</td>\n",
              "      <td>Namibia</td>\n",
              "      <td>1</td>\n",
              "    </tr>\n",
              "    <tr>\n",
              "      <th>38896</th>\n",
              "      <td>2018-03-27</td>\n",
              "      <td>Laos</td>\n",
              "      <td>Bangladesh</td>\n",
              "      <td>2</td>\n",
              "      <td>2</td>\n",
              "      <td>Friendly</td>\n",
              "      <td>Vientiane</td>\n",
              "      <td>Laos</td>\n",
              "      <td>Tie</td>\n",
              "      <td>0</td>\n",
              "    </tr>\n",
              "    <tr>\n",
              "      <th>38897</th>\n",
              "      <td>2018-03-27</td>\n",
              "      <td>Mongolia</td>\n",
              "      <td>Mauritius</td>\n",
              "      <td>0</td>\n",
              "      <td>2</td>\n",
              "      <td>Friendly</td>\n",
              "      <td>Ulan Bator</td>\n",
              "      <td>Mongolia</td>\n",
              "      <td>Mauritius</td>\n",
              "      <td>2</td>\n",
              "    </tr>\n",
              "    <tr>\n",
              "      <th>38898</th>\n",
              "      <td>2018-03-27</td>\n",
              "      <td>Seychelles</td>\n",
              "      <td>Swaziland</td>\n",
              "      <td>0</td>\n",
              "      <td>0</td>\n",
              "      <td>Friendly</td>\n",
              "      <td>Victoria</td>\n",
              "      <td>Seychelles</td>\n",
              "      <td>Tie</td>\n",
              "      <td>0</td>\n",
              "    </tr>\n",
              "    <tr>\n",
              "      <th>38899</th>\n",
              "      <td>2018-03-27</td>\n",
              "      <td>Kosovo</td>\n",
              "      <td>Burkina Faso</td>\n",
              "      <td>2</td>\n",
              "      <td>0</td>\n",
              "      <td>Friendly</td>\n",
              "      <td>Franconville</td>\n",
              "      <td>France</td>\n",
              "      <td>Kosovo</td>\n",
              "      <td>2</td>\n",
              "    </tr>\n",
              "    <tr>\n",
              "      <th>38900</th>\n",
              "      <td>2018-03-27</td>\n",
              "      <td>Iraq</td>\n",
              "      <td>Syria</td>\n",
              "      <td>1</td>\n",
              "      <td>1</td>\n",
              "      <td>Friendly</td>\n",
              "      <td>Basra</td>\n",
              "      <td>Iraq</td>\n",
              "      <td>Tie</td>\n",
              "      <td>0</td>\n",
              "    </tr>\n",
              "    <tr>\n",
              "      <th>38901</th>\n",
              "      <td>2018-04-01</td>\n",
              "      <td>Malaysia</td>\n",
              "      <td>Bhutan</td>\n",
              "      <td>7</td>\n",
              "      <td>0</td>\n",
              "      <td>Friendly</td>\n",
              "      <td>Kuala Lumpur</td>\n",
              "      <td>Malaysia</td>\n",
              "      <td>Malaysia</td>\n",
              "      <td>7</td>\n",
              "    </tr>\n",
              "  </tbody>\n",
              "</table>\n",
              "</div>"
            ],
            "text/plain": [
              "             date   home_team  ... winning_team  goal_difference\n",
              "38895  2018-03-27     Namibia  ...      Namibia                1\n",
              "38896  2018-03-27        Laos  ...          Tie                0\n",
              "38897  2018-03-27    Mongolia  ...    Mauritius                2\n",
              "38898  2018-03-27  Seychelles  ...          Tie                0\n",
              "38899  2018-03-27      Kosovo  ...       Kosovo                2\n",
              "38900  2018-03-27        Iraq  ...          Tie                0\n",
              "38901  2018-04-01    Malaysia  ...     Malaysia                7\n",
              "\n",
              "[7 rows x 10 columns]"
            ]
          },
          "metadata": {
            "tags": []
          },
          "execution_count": 12
        }
      ]
    },
    {
      "cell_type": "code",
      "metadata": {
        "id": "zUO_ZmrrRPVZ"
      },
      "source": [
        "df_colombia = results[(results['home_team'] == 'Colombia') | (results['away_team'] == 'Colombia')]"
      ],
      "execution_count": null,
      "outputs": []
    },
    {
      "cell_type": "code",
      "metadata": {
        "colab": {
          "base_uri": "https://localhost:8080/",
          "height": 266
        },
        "id": "3g7aDHYCRr0T",
        "outputId": "b45906bb-670e-4dfb-99ad-9b911b92f326"
      },
      "source": [
        "df_colombia.head(7)"
      ],
      "execution_count": null,
      "outputs": [
        {
          "output_type": "execute_result",
          "data": {
            "text/html": [
              "<div>\n",
              "<style scoped>\n",
              "    .dataframe tbody tr th:only-of-type {\n",
              "        vertical-align: middle;\n",
              "    }\n",
              "\n",
              "    .dataframe tbody tr th {\n",
              "        vertical-align: top;\n",
              "    }\n",
              "\n",
              "    .dataframe thead th {\n",
              "        text-align: right;\n",
              "    }\n",
              "</style>\n",
              "<table border=\"1\" class=\"dataframe\">\n",
              "  <thead>\n",
              "    <tr style=\"text-align: right;\">\n",
              "      <th></th>\n",
              "      <th>date</th>\n",
              "      <th>home_team</th>\n",
              "      <th>away_team</th>\n",
              "      <th>home_score</th>\n",
              "      <th>away_score</th>\n",
              "      <th>tournament</th>\n",
              "      <th>city</th>\n",
              "      <th>country</th>\n",
              "      <th>winning_team</th>\n",
              "      <th>goal_difference</th>\n",
              "    </tr>\n",
              "  </thead>\n",
              "  <tbody>\n",
              "    <tr>\n",
              "      <th>2086</th>\n",
              "      <td>1938-08-08</td>\n",
              "      <td>Colombia</td>\n",
              "      <td>Peru</td>\n",
              "      <td>2</td>\n",
              "      <td>4</td>\n",
              "      <td>Friendly</td>\n",
              "      <td>Bogotá</td>\n",
              "      <td>Colombia</td>\n",
              "      <td>Peru</td>\n",
              "      <td>2</td>\n",
              "    </tr>\n",
              "    <tr>\n",
              "      <th>2087</th>\n",
              "      <td>1938-08-10</td>\n",
              "      <td>Colombia</td>\n",
              "      <td>Ecuador</td>\n",
              "      <td>1</td>\n",
              "      <td>2</td>\n",
              "      <td>Friendly</td>\n",
              "      <td>Bogotá</td>\n",
              "      <td>Colombia</td>\n",
              "      <td>Ecuador</td>\n",
              "      <td>1</td>\n",
              "    </tr>\n",
              "    <tr>\n",
              "      <th>2090</th>\n",
              "      <td>1938-08-13</td>\n",
              "      <td>Colombia</td>\n",
              "      <td>Venezuela</td>\n",
              "      <td>2</td>\n",
              "      <td>0</td>\n",
              "      <td>Friendly</td>\n",
              "      <td>Bogotá</td>\n",
              "      <td>Colombia</td>\n",
              "      <td>Colombia</td>\n",
              "      <td>2</td>\n",
              "    </tr>\n",
              "    <tr>\n",
              "      <th>2091</th>\n",
              "      <td>1938-08-16</td>\n",
              "      <td>Colombia</td>\n",
              "      <td>Bolivia</td>\n",
              "      <td>1</td>\n",
              "      <td>2</td>\n",
              "      <td>Friendly</td>\n",
              "      <td>Bogotá</td>\n",
              "      <td>Colombia</td>\n",
              "      <td>Bolivia</td>\n",
              "      <td>1</td>\n",
              "    </tr>\n",
              "    <tr>\n",
              "      <th>2452</th>\n",
              "      <td>1945-01-21</td>\n",
              "      <td>Brazil</td>\n",
              "      <td>Colombia</td>\n",
              "      <td>3</td>\n",
              "      <td>0</td>\n",
              "      <td>Copa América</td>\n",
              "      <td>Santiago</td>\n",
              "      <td>Chile</td>\n",
              "      <td>Brazil</td>\n",
              "      <td>3</td>\n",
              "    </tr>\n",
              "    <tr>\n",
              "      <th>2456</th>\n",
              "      <td>1945-01-28</td>\n",
              "      <td>Colombia</td>\n",
              "      <td>Uruguay</td>\n",
              "      <td>0</td>\n",
              "      <td>7</td>\n",
              "      <td>Copa América</td>\n",
              "      <td>Santiago</td>\n",
              "      <td>Chile</td>\n",
              "      <td>Uruguay</td>\n",
              "      <td>7</td>\n",
              "    </tr>\n",
              "    <tr>\n",
              "      <th>2458</th>\n",
              "      <td>1945-01-31</td>\n",
              "      <td>Chile</td>\n",
              "      <td>Colombia</td>\n",
              "      <td>2</td>\n",
              "      <td>0</td>\n",
              "      <td>Copa América</td>\n",
              "      <td>Santiago</td>\n",
              "      <td>Chile</td>\n",
              "      <td>Chile</td>\n",
              "      <td>2</td>\n",
              "    </tr>\n",
              "  </tbody>\n",
              "</table>\n",
              "</div>"
            ],
            "text/plain": [
              "            date home_team  away_team  ...   country  winning_team goal_difference\n",
              "2086  1938-08-08  Colombia       Peru  ...  Colombia          Peru               2\n",
              "2087  1938-08-10  Colombia    Ecuador  ...  Colombia       Ecuador               1\n",
              "2090  1938-08-13  Colombia  Venezuela  ...  Colombia      Colombia               2\n",
              "2091  1938-08-16  Colombia    Bolivia  ...  Colombia       Bolivia               1\n",
              "2452  1945-01-21    Brazil   Colombia  ...     Chile        Brazil               3\n",
              "2456  1945-01-28  Colombia    Uruguay  ...     Chile       Uruguay               7\n",
              "2458  1945-01-31     Chile   Colombia  ...     Chile         Chile               2\n",
              "\n",
              "[7 rows x 10 columns]"
            ]
          },
          "metadata": {
            "tags": []
          },
          "execution_count": 14
        }
      ]
    },
    {
      "cell_type": "code",
      "metadata": {
        "colab": {
          "base_uri": "https://localhost:8080/"
        },
        "id": "-Co0fTh1Rvst",
        "outputId": "60a8e4cc-f15f-476e-a934-762fcf9d62c0"
      },
      "source": [
        "df_colombia.shape"
      ],
      "execution_count": null,
      "outputs": [
        {
          "output_type": "execute_result",
          "data": {
            "text/plain": [
              "(524, 10)"
            ]
          },
          "metadata": {
            "tags": []
          },
          "execution_count": 15
        }
      ]
    },
    {
      "cell_type": "code",
      "metadata": {
        "id": "ToLyPLhPRz1e"
      },
      "source": [
        "# nueva columna MATCH_YEAR (año)\n",
        "\n",
        "colombia = df_colombia.iloc[:]\n",
        "\n",
        "year = []\n",
        "\n",
        "for row in colombia['date']:\n",
        "    year.append(int(row[:4]))\n",
        "colombia['match_year'] = year"
      ],
      "execution_count": null,
      "outputs": []
    },
    {
      "cell_type": "code",
      "metadata": {
        "id": "NAX0u9CDSNBg"
      },
      "source": [
        "# 1930 hay WC\n",
        "\n",
        "colombia_1930 = colombia[colombia.match_year >= 1930]"
      ],
      "execution_count": null,
      "outputs": []
    },
    {
      "cell_type": "code",
      "metadata": {
        "colab": {
          "base_uri": "https://localhost:8080/"
        },
        "id": "GZdXJI7kSt5D",
        "outputId": "16d7e038-8e57-408d-fac8-31df9e90e9f9"
      },
      "source": [
        "colombia_1930.count()"
      ],
      "execution_count": null,
      "outputs": [
        {
          "output_type": "execute_result",
          "data": {
            "text/plain": [
              "date               524\n",
              "home_team          524\n",
              "away_team          524\n",
              "home_score         524\n",
              "away_score         524\n",
              "tournament         524\n",
              "city               524\n",
              "country            524\n",
              "winning_team       524\n",
              "goal_difference    524\n",
              "match_year         524\n",
              "dtype: int64"
            ]
          },
          "metadata": {
            "tags": []
          },
          "execution_count": 19
        }
      ]
    },
    {
      "cell_type": "code",
      "metadata": {
        "id": "heqSulZmSwPi"
      },
      "source": [
        "# auxiliar para graficar\n",
        "\n",
        "winrate = []\n",
        "for row in colombia_1930['winning_team']:\n",
        "    if row != 'Colombia' and row != 'Tie':\n",
        "        winrate.append('Loss')\n",
        "    else:\n",
        "        winrate.append(row)\n",
        "dfwinrate = pd.DataFrame(winrate, columns=['resultColombia'])"
      ],
      "execution_count": null,
      "outputs": []
    },
    {
      "cell_type": "code",
      "metadata": {
        "id": "2ESsRVbGTJa3"
      },
      "source": [
        "# Plot with Seaborn and show\n",
        "import matplotlib.ticker as ticker\n",
        "import matplotlib.ticker as plticker"
      ],
      "execution_count": null,
      "outputs": []
    },
    {
      "cell_type": "code",
      "metadata": {
        "colab": {
          "base_uri": "https://localhost:8080/",
          "height": 382
        },
        "id": "C0iyr_GBTRff",
        "outputId": "508e76b6-6ce2-41e0-a343-fe4c35c7ec56"
      },
      "source": [
        "fig, ax = plt.subplots(1, 2)\n",
        "fig.set_size_inches(15.7, 5.27)\n",
        "\n",
        "sns.set(style=\"darkgrid\")\n",
        "\n",
        "# grafico izquierda\n",
        "sns.countplot(x='resultColombia', data=dfwinrate, ax = ax[0])\n",
        "#grafico derecha\n",
        "sns.countplot(x='match_year', data=colombia_1930, ax = ax[1])\n",
        "\n",
        "plt.xticks(np.arange(min(colombia_1930.match_year), max(colombia_1930.match_year), 100))"
      ],
      "execution_count": null,
      "outputs": [
        {
          "output_type": "execute_result",
          "data": {
            "text/plain": [
              "([<matplotlib.axis.XTick at 0x7f21c1ca4d50>],\n",
              " <a list of 1 Text major ticklabel objects>)"
            ]
          },
          "metadata": {
            "tags": []
          },
          "execution_count": 22
        },
        {
          "output_type": "display_data",
          "data": {
            "image/png": "[encoded data removed]",
            "text/plain": [
              "<Figure size 1130.4x379.44 with 2 Axes>"
            ]
          },
          "metadata": {
            "tags": [],
            "needs_background": "light"
          }
        }
      ]
    },
    {
      "cell_type": "code",
      "metadata": {
        "id": "6ytGY2FSTgzq"
      },
      "source": [
        "# organizando nuestro DATASET\n",
        "\n",
        "# equipos del WC\n",
        "wc_teams = ['Australia', ' Iran', 'Japan', 'Korea Republic', \n",
        "            'Saudi Arabia', 'Egypt', 'Morocco', 'Nigeria', \n",
        "            'Senegal', 'Tunisia', 'Costa Rica', 'Mexico', \n",
        "            'Panama', 'Argentina', 'Brazil', 'Colombia', \n",
        "            'Peru', 'Uruguay', 'Belgium', 'Croatia', \n",
        "            'Denmark', 'England', 'France', 'Germany', \n",
        "            'Iceland', 'Poland', 'Portugal', 'Russia', \n",
        "            'Serbia', 'Spain', 'Sweden', 'Switzerland']"
      ],
      "execution_count": null,
      "outputs": []
    },
    {
      "cell_type": "code",
      "metadata": {
        "id": "Fd2Bc75DT_bC"
      },
      "source": [
        "# local - visitante\n",
        "\n",
        "df_teams_home = results[results['home_team'].isin(wc_teams)]\n",
        "df_teams_away = results[results['away_team'].isin(wc_teams)]"
      ],
      "execution_count": null,
      "outputs": []
    },
    {
      "cell_type": "code",
      "metadata": {
        "id": "tsXP0FFuUHY5"
      },
      "source": [
        "df_teams = pd.concat((df_teams_home, df_teams_away))"
      ],
      "execution_count": null,
      "outputs": []
    },
    {
      "cell_type": "code",
      "metadata": {
        "colab": {
          "base_uri": "https://localhost:8080/",
          "height": 419
        },
        "id": "NVnhKZIcUMca",
        "outputId": "33b46c5f-c178-4361-d37c-c697ad743a97"
      },
      "source": [
        "df_teams.drop_duplicates()"
      ],
      "execution_count": null,
      "outputs": [
        {
          "output_type": "execute_result",
          "data": {
            "text/html": [
              "<div>\n",
              "<style scoped>\n",
              "    .dataframe tbody tr th:only-of-type {\n",
              "        vertical-align: middle;\n",
              "    }\n",
              "\n",
              "    .dataframe tbody tr th {\n",
              "        vertical-align: top;\n",
              "    }\n",
              "\n",
              "    .dataframe thead th {\n",
              "        text-align: right;\n",
              "    }\n",
              "</style>\n",
              "<table border=\"1\" class=\"dataframe\">\n",
              "  <thead>\n",
              "    <tr style=\"text-align: right;\">\n",
              "      <th></th>\n",
              "      <th>date</th>\n",
              "      <th>home_team</th>\n",
              "      <th>away_team</th>\n",
              "      <th>home_score</th>\n",
              "      <th>away_score</th>\n",
              "      <th>tournament</th>\n",
              "      <th>city</th>\n",
              "      <th>country</th>\n",
              "      <th>winning_team</th>\n",
              "      <th>goal_difference</th>\n",
              "    </tr>\n",
              "  </thead>\n",
              "  <tbody>\n",
              "    <tr>\n",
              "      <th>1</th>\n",
              "      <td>1873-03-08</td>\n",
              "      <td>England</td>\n",
              "      <td>Scotland</td>\n",
              "      <td>4</td>\n",
              "      <td>2</td>\n",
              "      <td>Friendly</td>\n",
              "      <td>London</td>\n",
              "      <td>England</td>\n",
              "      <td>England</td>\n",
              "      <td>2</td>\n",
              "    </tr>\n",
              "    <tr>\n",
              "      <th>3</th>\n",
              "      <td>1875-03-06</td>\n",
              "      <td>England</td>\n",
              "      <td>Scotland</td>\n",
              "      <td>2</td>\n",
              "      <td>2</td>\n",
              "      <td>Friendly</td>\n",
              "      <td>London</td>\n",
              "      <td>England</td>\n",
              "      <td>Tie</td>\n",
              "      <td>0</td>\n",
              "    </tr>\n",
              "    <tr>\n",
              "      <th>6</th>\n",
              "      <td>1877-03-03</td>\n",
              "      <td>England</td>\n",
              "      <td>Scotland</td>\n",
              "      <td>1</td>\n",
              "      <td>3</td>\n",
              "      <td>Friendly</td>\n",
              "      <td>London</td>\n",
              "      <td>England</td>\n",
              "      <td>Scotland</td>\n",
              "      <td>2</td>\n",
              "    </tr>\n",
              "    <tr>\n",
              "      <th>10</th>\n",
              "      <td>1879-01-18</td>\n",
              "      <td>England</td>\n",
              "      <td>Wales</td>\n",
              "      <td>2</td>\n",
              "      <td>1</td>\n",
              "      <td>Friendly</td>\n",
              "      <td>London</td>\n",
              "      <td>England</td>\n",
              "      <td>England</td>\n",
              "      <td>1</td>\n",
              "    </tr>\n",
              "    <tr>\n",
              "      <th>11</th>\n",
              "      <td>1879-04-05</td>\n",
              "      <td>England</td>\n",
              "      <td>Scotland</td>\n",
              "      <td>5</td>\n",
              "      <td>4</td>\n",
              "      <td>Friendly</td>\n",
              "      <td>London</td>\n",
              "      <td>England</td>\n",
              "      <td>England</td>\n",
              "      <td>1</td>\n",
              "    </tr>\n",
              "    <tr>\n",
              "      <th>...</th>\n",
              "      <td>...</td>\n",
              "      <td>...</td>\n",
              "      <td>...</td>\n",
              "      <td>...</td>\n",
              "      <td>...</td>\n",
              "      <td>...</td>\n",
              "      <td>...</td>\n",
              "      <td>...</td>\n",
              "      <td>...</td>\n",
              "      <td>...</td>\n",
              "    </tr>\n",
              "    <tr>\n",
              "      <th>38851</th>\n",
              "      <td>2018-03-26</td>\n",
              "      <td>Wales</td>\n",
              "      <td>Uruguay</td>\n",
              "      <td>0</td>\n",
              "      <td>1</td>\n",
              "      <td>Friendly</td>\n",
              "      <td>Nanning</td>\n",
              "      <td>China</td>\n",
              "      <td>Uruguay</td>\n",
              "      <td>1</td>\n",
              "    </tr>\n",
              "    <tr>\n",
              "      <th>38867</th>\n",
              "      <td>2018-03-27</td>\n",
              "      <td>Greece</td>\n",
              "      <td>Egypt</td>\n",
              "      <td>1</td>\n",
              "      <td>0</td>\n",
              "      <td>Friendly</td>\n",
              "      <td>Zurich</td>\n",
              "      <td>Switzerland</td>\n",
              "      <td>Greece</td>\n",
              "      <td>1</td>\n",
              "    </tr>\n",
              "    <tr>\n",
              "      <th>38877</th>\n",
              "      <td>2018-03-27</td>\n",
              "      <td>Ukraine</td>\n",
              "      <td>Japan</td>\n",
              "      <td>2</td>\n",
              "      <td>1</td>\n",
              "      <td>Friendly</td>\n",
              "      <td>Liège</td>\n",
              "      <td>Belgium</td>\n",
              "      <td>Ukraine</td>\n",
              "      <td>1</td>\n",
              "    </tr>\n",
              "    <tr>\n",
              "      <th>38880</th>\n",
              "      <td>2018-03-27</td>\n",
              "      <td>Romania</td>\n",
              "      <td>Sweden</td>\n",
              "      <td>1</td>\n",
              "      <td>0</td>\n",
              "      <td>Friendly</td>\n",
              "      <td>Craiova</td>\n",
              "      <td>Romania</td>\n",
              "      <td>Romania</td>\n",
              "      <td>1</td>\n",
              "    </tr>\n",
              "    <tr>\n",
              "      <th>38881</th>\n",
              "      <td>2018-03-27</td>\n",
              "      <td>Bosnia-Herzegovina</td>\n",
              "      <td>Senegal</td>\n",
              "      <td>0</td>\n",
              "      <td>0</td>\n",
              "      <td>Friendly</td>\n",
              "      <td>Le Havre</td>\n",
              "      <td>France</td>\n",
              "      <td>Tie</td>\n",
              "      <td>0</td>\n",
              "    </tr>\n",
              "  </tbody>\n",
              "</table>\n",
              "<p>16720 rows × 10 columns</p>\n",
              "</div>"
            ],
            "text/plain": [
              "             date           home_team  ... winning_team  goal_difference\n",
              "1      1873-03-08             England  ...      England                2\n",
              "3      1875-03-06             England  ...          Tie                0\n",
              "6      1877-03-03             England  ...     Scotland                2\n",
              "10     1879-01-18             England  ...      England                1\n",
              "11     1879-04-05             England  ...      England                1\n",
              "...           ...                 ...  ...          ...              ...\n",
              "38851  2018-03-26               Wales  ...      Uruguay                1\n",
              "38867  2018-03-27              Greece  ...       Greece                1\n",
              "38877  2018-03-27             Ukraine  ...      Ukraine                1\n",
              "38880  2018-03-27             Romania  ...      Romania                1\n",
              "38881  2018-03-27  Bosnia-Herzegovina  ...          Tie                0\n",
              "\n",
              "[16720 rows x 10 columns]"
            ]
          },
          "metadata": {
            "tags": []
          },
          "execution_count": 26
        }
      ]
    },
    {
      "cell_type": "code",
      "metadata": {
        "id": "uNoLIOMLUSKH"
      },
      "source": [
        "year = []\n",
        "for row in df_teams['date']:\n",
        "    year.append(int(row[:4]))\n",
        "df_teams['match_year'] = year"
      ],
      "execution_count": null,
      "outputs": []
    },
    {
      "cell_type": "code",
      "metadata": {
        "colab": {
          "base_uri": "https://localhost:8080/"
        },
        "id": "XnWrHYigUgHh",
        "outputId": "b0567c0c-f0f2-48d1-cefc-a9f6ca920dcc"
      },
      "source": [
        "df_teams.shape"
      ],
      "execution_count": null,
      "outputs": [
        {
          "output_type": "execute_result",
          "data": {
            "text/plain": [
              "(20565, 11)"
            ]
          },
          "metadata": {
            "tags": []
          },
          "execution_count": 28
        }
      ]
    },
    {
      "cell_type": "code",
      "metadata": {
        "id": "wG4cJOVxUi4r"
      },
      "source": [
        "# lista de equipos a partir de 1930\n",
        "df_teams30 = df_teams[df_teams.match_year >= 1930]"
      ],
      "execution_count": null,
      "outputs": []
    },
    {
      "cell_type": "code",
      "metadata": {
        "colab": {
          "base_uri": "https://localhost:8080/",
          "height": 266
        },
        "id": "ZUhijEfXUp0x",
        "outputId": "70dfa74b-d4cf-4737-a2f8-0659bab94af4"
      },
      "source": [
        "df_teams30.tail(7)"
      ],
      "execution_count": null,
      "outputs": [
        {
          "output_type": "execute_result",
          "data": {
            "text/html": [
              "<div>\n",
              "<style scoped>\n",
              "    .dataframe tbody tr th:only-of-type {\n",
              "        vertical-align: middle;\n",
              "    }\n",
              "\n",
              "    .dataframe tbody tr th {\n",
              "        vertical-align: top;\n",
              "    }\n",
              "\n",
              "    .dataframe thead th {\n",
              "        text-align: right;\n",
              "    }\n",
              "</style>\n",
              "<table border=\"1\" class=\"dataframe\">\n",
              "  <thead>\n",
              "    <tr style=\"text-align: right;\">\n",
              "      <th></th>\n",
              "      <th>date</th>\n",
              "      <th>home_team</th>\n",
              "      <th>away_team</th>\n",
              "      <th>home_score</th>\n",
              "      <th>away_score</th>\n",
              "      <th>tournament</th>\n",
              "      <th>city</th>\n",
              "      <th>country</th>\n",
              "      <th>winning_team</th>\n",
              "      <th>goal_difference</th>\n",
              "      <th>match_year</th>\n",
              "    </tr>\n",
              "  </thead>\n",
              "  <tbody>\n",
              "    <tr>\n",
              "      <th>38877</th>\n",
              "      <td>2018-03-27</td>\n",
              "      <td>Ukraine</td>\n",
              "      <td>Japan</td>\n",
              "      <td>2</td>\n",
              "      <td>1</td>\n",
              "      <td>Friendly</td>\n",
              "      <td>Liège</td>\n",
              "      <td>Belgium</td>\n",
              "      <td>Ukraine</td>\n",
              "      <td>1</td>\n",
              "      <td>2018</td>\n",
              "    </tr>\n",
              "    <tr>\n",
              "      <th>38878</th>\n",
              "      <td>2018-03-27</td>\n",
              "      <td>Belgium</td>\n",
              "      <td>Saudi Arabia</td>\n",
              "      <td>4</td>\n",
              "      <td>0</td>\n",
              "      <td>Friendly</td>\n",
              "      <td>Brussels</td>\n",
              "      <td>Belgium</td>\n",
              "      <td>Belgium</td>\n",
              "      <td>4</td>\n",
              "      <td>2018</td>\n",
              "    </tr>\n",
              "    <tr>\n",
              "      <th>38880</th>\n",
              "      <td>2018-03-27</td>\n",
              "      <td>Romania</td>\n",
              "      <td>Sweden</td>\n",
              "      <td>1</td>\n",
              "      <td>0</td>\n",
              "      <td>Friendly</td>\n",
              "      <td>Craiova</td>\n",
              "      <td>Romania</td>\n",
              "      <td>Romania</td>\n",
              "      <td>1</td>\n",
              "      <td>2018</td>\n",
              "    </tr>\n",
              "    <tr>\n",
              "      <th>38881</th>\n",
              "      <td>2018-03-27</td>\n",
              "      <td>Bosnia-Herzegovina</td>\n",
              "      <td>Senegal</td>\n",
              "      <td>0</td>\n",
              "      <td>0</td>\n",
              "      <td>Friendly</td>\n",
              "      <td>Le Havre</td>\n",
              "      <td>France</td>\n",
              "      <td>Tie</td>\n",
              "      <td>0</td>\n",
              "      <td>2018</td>\n",
              "    </tr>\n",
              "    <tr>\n",
              "      <th>38883</th>\n",
              "      <td>2018-03-27</td>\n",
              "      <td>Peru</td>\n",
              "      <td>Iceland</td>\n",
              "      <td>3</td>\n",
              "      <td>1</td>\n",
              "      <td>Friendly</td>\n",
              "      <td>Harrison</td>\n",
              "      <td>USA</td>\n",
              "      <td>Peru</td>\n",
              "      <td>2</td>\n",
              "      <td>2018</td>\n",
              "    </tr>\n",
              "    <tr>\n",
              "      <th>38885</th>\n",
              "      <td>2018-03-27</td>\n",
              "      <td>Tunisia</td>\n",
              "      <td>Costa Rica</td>\n",
              "      <td>1</td>\n",
              "      <td>0</td>\n",
              "      <td>Friendly</td>\n",
              "      <td>Nice</td>\n",
              "      <td>France</td>\n",
              "      <td>Tunisia</td>\n",
              "      <td>1</td>\n",
              "      <td>2018</td>\n",
              "    </tr>\n",
              "    <tr>\n",
              "      <th>38887</th>\n",
              "      <td>2018-03-27</td>\n",
              "      <td>Poland</td>\n",
              "      <td>Korea Republic</td>\n",
              "      <td>3</td>\n",
              "      <td>2</td>\n",
              "      <td>Friendly</td>\n",
              "      <td>Chorzów</td>\n",
              "      <td>Poland</td>\n",
              "      <td>Poland</td>\n",
              "      <td>1</td>\n",
              "      <td>2018</td>\n",
              "    </tr>\n",
              "  </tbody>\n",
              "</table>\n",
              "</div>"
            ],
            "text/plain": [
              "             date           home_team  ... goal_difference  match_year\n",
              "38877  2018-03-27             Ukraine  ...               1        2018\n",
              "38878  2018-03-27             Belgium  ...               4        2018\n",
              "38880  2018-03-27             Romania  ...               1        2018\n",
              "38881  2018-03-27  Bosnia-Herzegovina  ...               0        2018\n",
              "38883  2018-03-27                Peru  ...               2        2018\n",
              "38885  2018-03-27             Tunisia  ...               1        2018\n",
              "38887  2018-03-27              Poland  ...               1        2018\n",
              "\n",
              "[7 rows x 11 columns]"
            ]
          },
          "metadata": {
            "tags": []
          },
          "execution_count": 30
        }
      ]
    },
    {
      "cell_type": "code",
      "metadata": {
        "id": "3l-EaPFwUyqF"
      },
      "source": [
        "df_teams30 = df_teams30.drop(['date', 'home_score', 'away_score', 'tournament', 'city', 'country', 'goal_difference'], axis=1)"
      ],
      "execution_count": null,
      "outputs": []
    },
    {
      "cell_type": "code",
      "metadata": {
        "colab": {
          "base_uri": "https://localhost:8080/"
        },
        "id": "M_AoL6D6VHk6",
        "outputId": "a97ea227-ddf5-4e98-a6f7-168739be9e0f"
      },
      "source": [
        "df_teams30.shape"
      ],
      "execution_count": null,
      "outputs": [
        {
          "output_type": "execute_result",
          "data": {
            "text/plain": [
              "(19472, 4)"
            ]
          },
          "metadata": {
            "tags": []
          },
          "execution_count": 35
        }
      ]
    },
    {
      "cell_type": "code",
      "metadata": {
        "colab": {
          "base_uri": "https://localhost:8080/",
          "height": 142
        },
        "id": "QTFChfnpVgao",
        "outputId": "2b8204a6-691a-4b38-e454-c8ceec541997"
      },
      "source": [
        "df_teams30.head(3)"
      ],
      "execution_count": null,
      "outputs": [
        {
          "output_type": "execute_result",
          "data": {
            "text/html": [
              "<div>\n",
              "<style scoped>\n",
              "    .dataframe tbody tr th:only-of-type {\n",
              "        vertical-align: middle;\n",
              "    }\n",
              "\n",
              "    .dataframe tbody tr th {\n",
              "        vertical-align: top;\n",
              "    }\n",
              "\n",
              "    .dataframe thead th {\n",
              "        text-align: right;\n",
              "    }\n",
              "</style>\n",
              "<table border=\"1\" class=\"dataframe\">\n",
              "  <thead>\n",
              "    <tr style=\"text-align: right;\">\n",
              "      <th></th>\n",
              "      <th>home_team</th>\n",
              "      <th>away_team</th>\n",
              "      <th>winning_team</th>\n",
              "      <th>match_year</th>\n",
              "    </tr>\n",
              "  </thead>\n",
              "  <tbody>\n",
              "    <tr>\n",
              "      <th>1230</th>\n",
              "      <td>Spain</td>\n",
              "      <td>Czechoslovakia</td>\n",
              "      <td>Spain</td>\n",
              "      <td>1930</td>\n",
              "    </tr>\n",
              "    <tr>\n",
              "      <th>1231</th>\n",
              "      <td>Portugal</td>\n",
              "      <td>Czechoslovakia</td>\n",
              "      <td>Portugal</td>\n",
              "      <td>1930</td>\n",
              "    </tr>\n",
              "    <tr>\n",
              "      <th>1237</th>\n",
              "      <td>Portugal</td>\n",
              "      <td>France</td>\n",
              "      <td>Portugal</td>\n",
              "      <td>1930</td>\n",
              "    </tr>\n",
              "  </tbody>\n",
              "</table>\n",
              "</div>"
            ],
            "text/plain": [
              "     home_team       away_team winning_team  match_year\n",
              "1230     Spain  Czechoslovakia        Spain        1930\n",
              "1231  Portugal  Czechoslovakia     Portugal        1930\n",
              "1237  Portugal          France     Portugal        1930"
            ]
          },
          "metadata": {
            "tags": []
          },
          "execution_count": 36
        }
      ]
    },
    {
      "cell_type": "code",
      "metadata": {
        "id": "1esybkhsV1gP"
      },
      "source": [
        "# resetear indeces\n",
        "\n",
        "df_teams30 = df_teams30.reset_index(drop=True)"
      ],
      "execution_count": null,
      "outputs": []
    },
    {
      "cell_type": "code",
      "metadata": {
        "colab": {
          "base_uri": "https://localhost:8080/",
          "height": 142
        },
        "id": "cpw0WXOgV5Ys",
        "outputId": "2bb08ced-9f8d-441f-c1c6-7385787cf8ec"
      },
      "source": [
        "df_teams30.head(3)"
      ],
      "execution_count": null,
      "outputs": [
        {
          "output_type": "execute_result",
          "data": {
            "text/html": [
              "<div>\n",
              "<style scoped>\n",
              "    .dataframe tbody tr th:only-of-type {\n",
              "        vertical-align: middle;\n",
              "    }\n",
              "\n",
              "    .dataframe tbody tr th {\n",
              "        vertical-align: top;\n",
              "    }\n",
              "\n",
              "    .dataframe thead th {\n",
              "        text-align: right;\n",
              "    }\n",
              "</style>\n",
              "<table border=\"1\" class=\"dataframe\">\n",
              "  <thead>\n",
              "    <tr style=\"text-align: right;\">\n",
              "      <th></th>\n",
              "      <th>home_team</th>\n",
              "      <th>away_team</th>\n",
              "      <th>winning_team</th>\n",
              "      <th>match_year</th>\n",
              "    </tr>\n",
              "  </thead>\n",
              "  <tbody>\n",
              "    <tr>\n",
              "      <th>0</th>\n",
              "      <td>Spain</td>\n",
              "      <td>Czechoslovakia</td>\n",
              "      <td>Spain</td>\n",
              "      <td>1930</td>\n",
              "    </tr>\n",
              "    <tr>\n",
              "      <th>1</th>\n",
              "      <td>Portugal</td>\n",
              "      <td>Czechoslovakia</td>\n",
              "      <td>Portugal</td>\n",
              "      <td>1930</td>\n",
              "    </tr>\n",
              "    <tr>\n",
              "      <th>2</th>\n",
              "      <td>Portugal</td>\n",
              "      <td>France</td>\n",
              "      <td>Portugal</td>\n",
              "      <td>1930</td>\n",
              "    </tr>\n",
              "  </tbody>\n",
              "</table>\n",
              "</div>"
            ],
            "text/plain": [
              "  home_team       away_team winning_team  match_year\n",
              "0     Spain  Czechoslovakia        Spain        1930\n",
              "1  Portugal  Czechoslovakia     Portugal        1930\n",
              "2  Portugal          France     Portugal        1930"
            ]
          },
          "metadata": {
            "tags": []
          },
          "execution_count": 38
        }
      ]
    },
    {
      "cell_type": "code",
      "metadata": {
        "id": "qDcnIVkzV7C1"
      },
      "source": [
        "# ajustes para tipos de datos \n",
        "df_teams30.loc[df_teams30.winning_team == df_teams30.home_team, 'winning_team']= 2\n",
        "df_teams30.loc[df_teams30.winning_team == 'Tie', 'winning_team']= 1\n",
        "df_teams30.loc[df_teams30.winning_team == df_teams30.away_team, 'winning_team']= 0"
      ],
      "execution_count": null,
      "outputs": []
    },
    {
      "cell_type": "code",
      "metadata": {
        "colab": {
          "base_uri": "https://localhost:8080/",
          "height": 142
        },
        "id": "YuXlGOrJWFD5",
        "outputId": "41a56a86-7e68-4252-8ce3-8d07c7f16ee7"
      },
      "source": [
        "df_teams30.head(3)"
      ],
      "execution_count": null,
      "outputs": [
        {
          "output_type": "execute_result",
          "data": {
            "text/html": [
              "<div>\n",
              "<style scoped>\n",
              "    .dataframe tbody tr th:only-of-type {\n",
              "        vertical-align: middle;\n",
              "    }\n",
              "\n",
              "    .dataframe tbody tr th {\n",
              "        vertical-align: top;\n",
              "    }\n",
              "\n",
              "    .dataframe thead th {\n",
              "        text-align: right;\n",
              "    }\n",
              "</style>\n",
              "<table border=\"1\" class=\"dataframe\">\n",
              "  <thead>\n",
              "    <tr style=\"text-align: right;\">\n",
              "      <th></th>\n",
              "      <th>home_team</th>\n",
              "      <th>away_team</th>\n",
              "      <th>winning_team</th>\n",
              "      <th>match_year</th>\n",
              "    </tr>\n",
              "  </thead>\n",
              "  <tbody>\n",
              "    <tr>\n",
              "      <th>0</th>\n",
              "      <td>Spain</td>\n",
              "      <td>Czechoslovakia</td>\n",
              "      <td>2</td>\n",
              "      <td>1930</td>\n",
              "    </tr>\n",
              "    <tr>\n",
              "      <th>1</th>\n",
              "      <td>Portugal</td>\n",
              "      <td>Czechoslovakia</td>\n",
              "      <td>2</td>\n",
              "      <td>1930</td>\n",
              "    </tr>\n",
              "    <tr>\n",
              "      <th>2</th>\n",
              "      <td>Portugal</td>\n",
              "      <td>France</td>\n",
              "      <td>2</td>\n",
              "      <td>1930</td>\n",
              "    </tr>\n",
              "  </tbody>\n",
              "</table>\n",
              "</div>"
            ],
            "text/plain": [
              "  home_team       away_team winning_team  match_year\n",
              "0     Spain  Czechoslovakia            2        1930\n",
              "1  Portugal  Czechoslovakia            2        1930\n",
              "2  Portugal          France            2        1930"
            ]
          },
          "metadata": {
            "tags": []
          },
          "execution_count": 40
        }
      ]
    },
    {
      "cell_type": "code",
      "metadata": {
        "id": "8VJGf4sMWHQD"
      },
      "source": [
        "df_teams30 = df_teams30.drop(['match_year'], axis=1)"
      ],
      "execution_count": null,
      "outputs": []
    },
    {
      "cell_type": "code",
      "metadata": {
        "colab": {
          "base_uri": "https://localhost:8080/",
          "height": 142
        },
        "id": "CljSQu7oWO9m",
        "outputId": "fa132428-9f24-42d8-857d-f782b40a2f5a"
      },
      "source": [
        "df_teams30.head(3)"
      ],
      "execution_count": null,
      "outputs": [
        {
          "output_type": "execute_result",
          "data": {
            "text/html": [
              "<div>\n",
              "<style scoped>\n",
              "    .dataframe tbody tr th:only-of-type {\n",
              "        vertical-align: middle;\n",
              "    }\n",
              "\n",
              "    .dataframe tbody tr th {\n",
              "        vertical-align: top;\n",
              "    }\n",
              "\n",
              "    .dataframe thead th {\n",
              "        text-align: right;\n",
              "    }\n",
              "</style>\n",
              "<table border=\"1\" class=\"dataframe\">\n",
              "  <thead>\n",
              "    <tr style=\"text-align: right;\">\n",
              "      <th></th>\n",
              "      <th>home_team</th>\n",
              "      <th>away_team</th>\n",
              "      <th>winning_team</th>\n",
              "    </tr>\n",
              "  </thead>\n",
              "  <tbody>\n",
              "    <tr>\n",
              "      <th>0</th>\n",
              "      <td>Spain</td>\n",
              "      <td>Czechoslovakia</td>\n",
              "      <td>2</td>\n",
              "    </tr>\n",
              "    <tr>\n",
              "      <th>1</th>\n",
              "      <td>Portugal</td>\n",
              "      <td>Czechoslovakia</td>\n",
              "      <td>2</td>\n",
              "    </tr>\n",
              "    <tr>\n",
              "      <th>2</th>\n",
              "      <td>Portugal</td>\n",
              "      <td>France</td>\n",
              "      <td>2</td>\n",
              "    </tr>\n",
              "  </tbody>\n",
              "</table>\n",
              "</div>"
            ],
            "text/plain": [
              "  home_team       away_team winning_team\n",
              "0     Spain  Czechoslovakia            2\n",
              "1  Portugal  Czechoslovakia            2\n",
              "2  Portugal          France            2"
            ]
          },
          "metadata": {
            "tags": []
          },
          "execution_count": 42
        }
      ]
    },
    {
      "cell_type": "code",
      "metadata": {
        "colab": {
          "base_uri": "https://localhost:8080/",
          "height": 142
        },
        "id": "9xOdLEJNWQfV",
        "outputId": "f3cd2473-98a1-4ea7-87e7-b7f2fc03797c"
      },
      "source": [
        "df_teams30.tail(3)"
      ],
      "execution_count": null,
      "outputs": [
        {
          "output_type": "execute_result",
          "data": {
            "text/html": [
              "<div>\n",
              "<style scoped>\n",
              "    .dataframe tbody tr th:only-of-type {\n",
              "        vertical-align: middle;\n",
              "    }\n",
              "\n",
              "    .dataframe tbody tr th {\n",
              "        vertical-align: top;\n",
              "    }\n",
              "\n",
              "    .dataframe thead th {\n",
              "        text-align: right;\n",
              "    }\n",
              "</style>\n",
              "<table border=\"1\" class=\"dataframe\">\n",
              "  <thead>\n",
              "    <tr style=\"text-align: right;\">\n",
              "      <th></th>\n",
              "      <th>home_team</th>\n",
              "      <th>away_team</th>\n",
              "      <th>winning_team</th>\n",
              "    </tr>\n",
              "  </thead>\n",
              "  <tbody>\n",
              "    <tr>\n",
              "      <th>19469</th>\n",
              "      <td>Peru</td>\n",
              "      <td>Iceland</td>\n",
              "      <td>2</td>\n",
              "    </tr>\n",
              "    <tr>\n",
              "      <th>19470</th>\n",
              "      <td>Tunisia</td>\n",
              "      <td>Costa Rica</td>\n",
              "      <td>2</td>\n",
              "    </tr>\n",
              "    <tr>\n",
              "      <th>19471</th>\n",
              "      <td>Poland</td>\n",
              "      <td>Korea Republic</td>\n",
              "      <td>2</td>\n",
              "    </tr>\n",
              "  </tbody>\n",
              "</table>\n",
              "</div>"
            ],
            "text/plain": [
              "      home_team       away_team winning_team\n",
              "19469      Peru         Iceland            2\n",
              "19470   Tunisia      Costa Rica            2\n",
              "19471    Poland  Korea Republic            2"
            ]
          },
          "metadata": {
            "tags": []
          },
          "execution_count": 43
        }
      ]
    },
    {
      "cell_type": "code",
      "metadata": {
        "colab": {
          "base_uri": "https://localhost:8080/"
        },
        "id": "0cZilTgPWVZo",
        "outputId": "3cc7f654-fe1e-462d-8d94-12fde5d0b0dd"
      },
      "source": [
        "df_teams30.shape"
      ],
      "execution_count": null,
      "outputs": [
        {
          "output_type": "execute_result",
          "data": {
            "text/plain": [
              "(19472, 3)"
            ]
          },
          "metadata": {
            "tags": []
          },
          "execution_count": 45
        }
      ]
    },
    {
      "cell_type": "code",
      "metadata": {
        "id": "SKXfEO6bWX2H"
      },
      "source": [
        "# dividir DATASET en training y testing \n",
        "\n",
        "# importar split del sklearn\n",
        "from sklearn.model_selection import train_test_split"
      ],
      "execution_count": null,
      "outputs": []
    },
    {
      "cell_type": "code",
      "metadata": {
        "id": "dDdCNZjfWuXy"
      },
      "source": [
        "# getdummies de Pandas\n",
        "\n",
        "df_final = pd.get_dummies(df_teams30, prefix=['home_team', 'away_team'], columns=['home_team', 'away_team'])"
      ],
      "execution_count": null,
      "outputs": []
    },
    {
      "cell_type": "code",
      "metadata": {
        "colab": {
          "base_uri": "https://localhost:8080/",
          "height": 242
        },
        "id": "EoF1ULP-W79Y",
        "outputId": "52c594b9-f116-4f14-f270-faabed309ef2"
      },
      "source": [
        "df_final.head(3)"
      ],
      "execution_count": null,
      "outputs": [
        {
          "output_type": "execute_result",
          "data": {
            "text/html": [
              "<div>\n",
              "<style scoped>\n",
              "    .dataframe tbody tr th:only-of-type {\n",
              "        vertical-align: middle;\n",
              "    }\n",
              "\n",
              "    .dataframe tbody tr th {\n",
              "        vertical-align: top;\n",
              "    }\n",
              "\n",
              "    .dataframe thead th {\n",
              "        text-align: right;\n",
              "    }\n",
              "</style>\n",
              "<table border=\"1\" class=\"dataframe\">\n",
              "  <thead>\n",
              "    <tr style=\"text-align: right;\">\n",
              "      <th></th>\n",
              "      <th>winning_team</th>\n",
              "      <th>home_team_Afghanistan</th>\n",
              "      <th>home_team_Albania</th>\n",
              "      <th>home_team_Algeria</th>\n",
              "      <th>home_team_Andorra</th>\n",
              "      <th>home_team_Angola</th>\n",
              "      <th>home_team_Argentina</th>\n",
              "      <th>home_team_Armenia</th>\n",
              "      <th>home_team_Aruba</th>\n",
              "      <th>home_team_Australia</th>\n",
              "      <th>home_team_Austria</th>\n",
              "      <th>home_team_Azerbaijan</th>\n",
              "      <th>home_team_Bahrain</th>\n",
              "      <th>home_team_Bangladesh</th>\n",
              "      <th>home_team_Barbados</th>\n",
              "      <th>home_team_Belarus</th>\n",
              "      <th>home_team_Belgium</th>\n",
              "      <th>home_team_Belize</th>\n",
              "      <th>home_team_Benin</th>\n",
              "      <th>home_team_Bermuda</th>\n",
              "      <th>home_team_Bhutan</th>\n",
              "      <th>home_team_Bolivia</th>\n",
              "      <th>home_team_Bosnia-Herzegovina</th>\n",
              "      <th>home_team_Botswana</th>\n",
              "      <th>home_team_Brazil</th>\n",
              "      <th>home_team_Brunei</th>\n",
              "      <th>home_team_Bulgaria</th>\n",
              "      <th>home_team_Burkina Faso</th>\n",
              "      <th>home_team_Burma</th>\n",
              "      <th>home_team_Burundi</th>\n",
              "      <th>home_team_Cambodia</th>\n",
              "      <th>home_team_Cameroon</th>\n",
              "      <th>home_team_Canada</th>\n",
              "      <th>home_team_Cape Verde</th>\n",
              "      <th>home_team_Central African Republic</th>\n",
              "      <th>home_team_Chad</th>\n",
              "      <th>home_team_Chile</th>\n",
              "      <th>home_team_China</th>\n",
              "      <th>home_team_Colombia</th>\n",
              "      <th>home_team_Congo</th>\n",
              "      <th>...</th>\n",
              "      <th>away_team_Solomon Islands</th>\n",
              "      <th>away_team_South Africa</th>\n",
              "      <th>away_team_Spain</th>\n",
              "      <th>away_team_Sri Lanka</th>\n",
              "      <th>away_team_St Kitts and Nevis</th>\n",
              "      <th>away_team_St Lucia</th>\n",
              "      <th>away_team_St Vincent and the Grenadines</th>\n",
              "      <th>away_team_Sudan</th>\n",
              "      <th>away_team_Suriname</th>\n",
              "      <th>away_team_Swaziland</th>\n",
              "      <th>away_team_Sweden</th>\n",
              "      <th>away_team_Switzerland</th>\n",
              "      <th>away_team_Syria</th>\n",
              "      <th>away_team_Tahiti</th>\n",
              "      <th>away_team_Taiwan</th>\n",
              "      <th>away_team_Tajikistan</th>\n",
              "      <th>away_team_Tanzania</th>\n",
              "      <th>away_team_Thailand</th>\n",
              "      <th>away_team_Togo</th>\n",
              "      <th>away_team_Trinidad and Tobago</th>\n",
              "      <th>away_team_Tunisia</th>\n",
              "      <th>away_team_Turkey</th>\n",
              "      <th>away_team_Turkmenistan</th>\n",
              "      <th>away_team_USA</th>\n",
              "      <th>away_team_Uganda</th>\n",
              "      <th>away_team_Ukraine</th>\n",
              "      <th>away_team_United Arab Emirates</th>\n",
              "      <th>away_team_Uruguay</th>\n",
              "      <th>away_team_Uzbekistan</th>\n",
              "      <th>away_team_Vanuatu</th>\n",
              "      <th>away_team_Venezuela</th>\n",
              "      <th>away_team_Vietnam</th>\n",
              "      <th>away_team_Vietnam Republic</th>\n",
              "      <th>away_team_Wales</th>\n",
              "      <th>away_team_Western Australia</th>\n",
              "      <th>away_team_Yemen</th>\n",
              "      <th>away_team_Yemen DPR</th>\n",
              "      <th>away_team_Yugoslavia</th>\n",
              "      <th>away_team_Zambia</th>\n",
              "      <th>away_team_Zimbabwe</th>\n",
              "    </tr>\n",
              "  </thead>\n",
              "  <tbody>\n",
              "    <tr>\n",
              "      <th>0</th>\n",
              "      <td>2</td>\n",
              "      <td>0</td>\n",
              "      <td>0</td>\n",
              "      <td>0</td>\n",
              "      <td>0</td>\n",
              "      <td>0</td>\n",
              "      <td>0</td>\n",
              "      <td>0</td>\n",
              "      <td>0</td>\n",
              "      <td>0</td>\n",
              "      <td>0</td>\n",
              "      <td>0</td>\n",
              "      <td>0</td>\n",
              "      <td>0</td>\n",
              "      <td>0</td>\n",
              "      <td>0</td>\n",
              "      <td>0</td>\n",
              "      <td>0</td>\n",
              "      <td>0</td>\n",
              "      <td>0</td>\n",
              "      <td>0</td>\n",
              "      <td>0</td>\n",
              "      <td>0</td>\n",
              "      <td>0</td>\n",
              "      <td>0</td>\n",
              "      <td>0</td>\n",
              "      <td>0</td>\n",
              "      <td>0</td>\n",
              "      <td>0</td>\n",
              "      <td>0</td>\n",
              "      <td>0</td>\n",
              "      <td>0</td>\n",
              "      <td>0</td>\n",
              "      <td>0</td>\n",
              "      <td>0</td>\n",
              "      <td>0</td>\n",
              "      <td>0</td>\n",
              "      <td>0</td>\n",
              "      <td>0</td>\n",
              "      <td>0</td>\n",
              "      <td>...</td>\n",
              "      <td>0</td>\n",
              "      <td>0</td>\n",
              "      <td>0</td>\n",
              "      <td>0</td>\n",
              "      <td>0</td>\n",
              "      <td>0</td>\n",
              "      <td>0</td>\n",
              "      <td>0</td>\n",
              "      <td>0</td>\n",
              "      <td>0</td>\n",
              "      <td>0</td>\n",
              "      <td>0</td>\n",
              "      <td>0</td>\n",
              "      <td>0</td>\n",
              "      <td>0</td>\n",
              "      <td>0</td>\n",
              "      <td>0</td>\n",
              "      <td>0</td>\n",
              "      <td>0</td>\n",
              "      <td>0</td>\n",
              "      <td>0</td>\n",
              "      <td>0</td>\n",
              "      <td>0</td>\n",
              "      <td>0</td>\n",
              "      <td>0</td>\n",
              "      <td>0</td>\n",
              "      <td>0</td>\n",
              "      <td>0</td>\n",
              "      <td>0</td>\n",
              "      <td>0</td>\n",
              "      <td>0</td>\n",
              "      <td>0</td>\n",
              "      <td>0</td>\n",
              "      <td>0</td>\n",
              "      <td>0</td>\n",
              "      <td>0</td>\n",
              "      <td>0</td>\n",
              "      <td>0</td>\n",
              "      <td>0</td>\n",
              "      <td>0</td>\n",
              "    </tr>\n",
              "    <tr>\n",
              "      <th>1</th>\n",
              "      <td>2</td>\n",
              "      <td>0</td>\n",
              "      <td>0</td>\n",
              "      <td>0</td>\n",
              "      <td>0</td>\n",
              "      <td>0</td>\n",
              "      <td>0</td>\n",
              "      <td>0</td>\n",
              "      <td>0</td>\n",
              "      <td>0</td>\n",
              "      <td>0</td>\n",
              "      <td>0</td>\n",
              "      <td>0</td>\n",
              "      <td>0</td>\n",
              "      <td>0</td>\n",
              "      <td>0</td>\n",
              "      <td>0</td>\n",
              "      <td>0</td>\n",
              "      <td>0</td>\n",
              "      <td>0</td>\n",
              "      <td>0</td>\n",
              "      <td>0</td>\n",
              "      <td>0</td>\n",
              "      <td>0</td>\n",
              "      <td>0</td>\n",
              "      <td>0</td>\n",
              "      <td>0</td>\n",
              "      <td>0</td>\n",
              "      <td>0</td>\n",
              "      <td>0</td>\n",
              "      <td>0</td>\n",
              "      <td>0</td>\n",
              "      <td>0</td>\n",
              "      <td>0</td>\n",
              "      <td>0</td>\n",
              "      <td>0</td>\n",
              "      <td>0</td>\n",
              "      <td>0</td>\n",
              "      <td>0</td>\n",
              "      <td>0</td>\n",
              "      <td>...</td>\n",
              "      <td>0</td>\n",
              "      <td>0</td>\n",
              "      <td>0</td>\n",
              "      <td>0</td>\n",
              "      <td>0</td>\n",
              "      <td>0</td>\n",
              "      <td>0</td>\n",
              "      <td>0</td>\n",
              "      <td>0</td>\n",
              "      <td>0</td>\n",
              "      <td>0</td>\n",
              "      <td>0</td>\n",
              "      <td>0</td>\n",
              "      <td>0</td>\n",
              "      <td>0</td>\n",
              "      <td>0</td>\n",
              "      <td>0</td>\n",
              "      <td>0</td>\n",
              "      <td>0</td>\n",
              "      <td>0</td>\n",
              "      <td>0</td>\n",
              "      <td>0</td>\n",
              "      <td>0</td>\n",
              "      <td>0</td>\n",
              "      <td>0</td>\n",
              "      <td>0</td>\n",
              "      <td>0</td>\n",
              "      <td>0</td>\n",
              "      <td>0</td>\n",
              "      <td>0</td>\n",
              "      <td>0</td>\n",
              "      <td>0</td>\n",
              "      <td>0</td>\n",
              "      <td>0</td>\n",
              "      <td>0</td>\n",
              "      <td>0</td>\n",
              "      <td>0</td>\n",
              "      <td>0</td>\n",
              "      <td>0</td>\n",
              "      <td>0</td>\n",
              "    </tr>\n",
              "    <tr>\n",
              "      <th>2</th>\n",
              "      <td>2</td>\n",
              "      <td>0</td>\n",
              "      <td>0</td>\n",
              "      <td>0</td>\n",
              "      <td>0</td>\n",
              "      <td>0</td>\n",
              "      <td>0</td>\n",
              "      <td>0</td>\n",
              "      <td>0</td>\n",
              "      <td>0</td>\n",
              "      <td>0</td>\n",
              "      <td>0</td>\n",
              "      <td>0</td>\n",
              "      <td>0</td>\n",
              "      <td>0</td>\n",
              "      <td>0</td>\n",
              "      <td>0</td>\n",
              "      <td>0</td>\n",
              "      <td>0</td>\n",
              "      <td>0</td>\n",
              "      <td>0</td>\n",
              "      <td>0</td>\n",
              "      <td>0</td>\n",
              "      <td>0</td>\n",
              "      <td>0</td>\n",
              "      <td>0</td>\n",
              "      <td>0</td>\n",
              "      <td>0</td>\n",
              "      <td>0</td>\n",
              "      <td>0</td>\n",
              "      <td>0</td>\n",
              "      <td>0</td>\n",
              "      <td>0</td>\n",
              "      <td>0</td>\n",
              "      <td>0</td>\n",
              "      <td>0</td>\n",
              "      <td>0</td>\n",
              "      <td>0</td>\n",
              "      <td>0</td>\n",
              "      <td>0</td>\n",
              "      <td>...</td>\n",
              "      <td>0</td>\n",
              "      <td>0</td>\n",
              "      <td>0</td>\n",
              "      <td>0</td>\n",
              "      <td>0</td>\n",
              "      <td>0</td>\n",
              "      <td>0</td>\n",
              "      <td>0</td>\n",
              "      <td>0</td>\n",
              "      <td>0</td>\n",
              "      <td>0</td>\n",
              "      <td>0</td>\n",
              "      <td>0</td>\n",
              "      <td>0</td>\n",
              "      <td>0</td>\n",
              "      <td>0</td>\n",
              "      <td>0</td>\n",
              "      <td>0</td>\n",
              "      <td>0</td>\n",
              "      <td>0</td>\n",
              "      <td>0</td>\n",
              "      <td>0</td>\n",
              "      <td>0</td>\n",
              "      <td>0</td>\n",
              "      <td>0</td>\n",
              "      <td>0</td>\n",
              "      <td>0</td>\n",
              "      <td>0</td>\n",
              "      <td>0</td>\n",
              "      <td>0</td>\n",
              "      <td>0</td>\n",
              "      <td>0</td>\n",
              "      <td>0</td>\n",
              "      <td>0</td>\n",
              "      <td>0</td>\n",
              "      <td>0</td>\n",
              "      <td>0</td>\n",
              "      <td>0</td>\n",
              "      <td>0</td>\n",
              "      <td>0</td>\n",
              "    </tr>\n",
              "  </tbody>\n",
              "</table>\n",
              "<p>3 rows × 417 columns</p>\n",
              "</div>"
            ],
            "text/plain": [
              "  winning_team  home_team_Afghanistan  ...  away_team_Zambia  away_team_Zimbabwe\n",
              "0            2                      0  ...                 0                   0\n",
              "1            2                      0  ...                 0                   0\n",
              "2            2                      0  ...                 0                   0\n",
              "\n",
              "[3 rows x 417 columns]"
            ]
          },
          "metadata": {
            "tags": []
          },
          "execution_count": 48
        }
      ]
    },
    {
      "cell_type": "code",
      "metadata": {
        "id": "LoTwNz0LW_SQ"
      },
      "source": [
        "# X ~ Y \n",
        "X = df_final.drop(['winning_team'], axis=1)\n",
        "\n",
        "Y = df_final['winning_team']\n",
        "Y = Y.astype('int')"
      ],
      "execution_count": null,
      "outputs": []
    },
    {
      "cell_type": "code",
      "metadata": {
        "id": "i4zZrqrPX5JC"
      },
      "source": [
        "# training / testing \n",
        "\n",
        "X_train, X_test, Y_train, Y_test = train_test_split(X, Y, test_size=0.2, random_state=42)"
      ],
      "execution_count": null,
      "outputs": []
    },
    {
      "cell_type": "code",
      "metadata": {
        "colab": {
          "base_uri": "https://localhost:8080/"
        },
        "id": "vzt68fz9YKn1",
        "outputId": "9bec32c1-e3bf-4b27-9322-73dd041f6e8e"
      },
      "source": [
        "X_train.shape"
      ],
      "execution_count": null,
      "outputs": [
        {
          "output_type": "execute_result",
          "data": {
            "text/plain": [
              "(15577, 416)"
            ]
          },
          "metadata": {
            "tags": []
          },
          "execution_count": 52
        }
      ]
    },
    {
      "cell_type": "code",
      "metadata": {
        "colab": {
          "base_uri": "https://localhost:8080/"
        },
        "id": "Wo_2aOQBYMkk",
        "outputId": "fa4dec9b-8596-45cd-880e-63aab22db59f"
      },
      "source": [
        "Y_train.shape"
      ],
      "execution_count": null,
      "outputs": [
        {
          "output_type": "execute_result",
          "data": {
            "text/plain": [
              "(15577,)"
            ]
          },
          "metadata": {
            "tags": []
          },
          "execution_count": 53
        }
      ]
    },
    {
      "cell_type": "code",
      "metadata": {
        "colab": {
          "base_uri": "https://localhost:8080/"
        },
        "id": "vHGWk01YYQiJ",
        "outputId": "427bed64-604a-4319-86a1-a1c1bcbb0671"
      },
      "source": [
        "X_test.shape"
      ],
      "execution_count": null,
      "outputs": [
        {
          "output_type": "execute_result",
          "data": {
            "text/plain": [
              "(3895, 416)"
            ]
          },
          "metadata": {
            "tags": []
          },
          "execution_count": 54
        }
      ]
    },
    {
      "cell_type": "code",
      "metadata": {
        "colab": {
          "base_uri": "https://localhost:8080/"
        },
        "id": "BrTMwUuvYS1R",
        "outputId": "72357d9f-50fe-48e3-aae7-0e7293e61348"
      },
      "source": [
        "Y_test.shape"
      ],
      "execution_count": null,
      "outputs": [
        {
          "output_type": "execute_result",
          "data": {
            "text/plain": [
              "(3895,)"
            ]
          },
          "metadata": {
            "tags": []
          },
          "execution_count": 55
        }
      ]
    },
    {
      "cell_type": "code",
      "metadata": {
        "id": "W_56UJ5oYUEf"
      },
      "source": [
        "### ENTRENAR UN MODELO "
      ],
      "execution_count": null,
      "outputs": []
    },
    {
      "cell_type": "code",
      "metadata": {
        "id": "x6lxZde4Y0Ax"
      },
      "source": [
        "# sklearn\n",
        "from sklearn.linear_model import LogisticRegression"
      ],
      "execution_count": null,
      "outputs": []
    },
    {
      "cell_type": "code",
      "metadata": {
        "colab": {
          "base_uri": "https://localhost:8080/"
        },
        "id": "7JicM4tlZQA8",
        "outputId": "a0af5cb5-cecb-4fde-d532-9cf149831c11"
      },
      "source": [
        "# definir modelo\n",
        "model_logreg = LogisticRegression()\n",
        "\n",
        "# entrenar\n",
        "model_logreg.fit(X_train, Y_train)"
      ],
      "execution_count": null,
      "outputs": [
        {
          "output_type": "stream",
          "text": [
            "/usr/local/lib/python3.7/dist-packages/sklearn/linear_model/_logistic.py:940: ConvergenceWarning: lbfgs failed to converge (status=1):\n",
            "STOP: TOTAL NO. of ITERATIONS REACHED LIMIT.\n",
            "\n",
            "Increase the number of iterations (max_iter) or scale the data as shown in:\n",
            "    https://scikit-learn.org/stable/modules/preprocessing.html\n",
            "Please also refer to the documentation for alternative solver options:\n",
            "    https://scikit-learn.org/stable/modules/linear_model.html#logistic-regression\n",
            "  extra_warning_msg=_LOGISTIC_SOLVER_CONVERGENCE_MSG)\n"
          ],
          "name": "stderr"
        },
        {
          "output_type": "execute_result",
          "data": {
            "text/plain": [
              "LogisticRegression(C=1.0, class_weight=None, dual=False, fit_intercept=True,\n",
              "                   intercept_scaling=1, l1_ratio=None, max_iter=100,\n",
              "                   multi_class='auto', n_jobs=None, penalty='l2',\n",
              "                   random_state=None, solver='lbfgs', tol=0.0001, verbose=0,\n",
              "                   warm_start=False)"
            ]
          },
          "metadata": {
            "tags": []
          },
          "execution_count": 58
        }
      ]
    },
    {
      "cell_type": "code",
      "metadata": {
        "colab": {
          "base_uri": "https://localhost:8080/"
        },
        "id": "kmXO06cuZdxC",
        "outputId": "1323f5d6-da38-4a72-e74f-2b3b3119d707"
      },
      "source": [
        "model_logreg.score(X_train, Y_train)"
      ],
      "execution_count": null,
      "outputs": [
        {
          "output_type": "execute_result",
          "data": {
            "text/plain": [
              "0.5723823586056365"
            ]
          },
          "metadata": {
            "tags": []
          },
          "execution_count": 59
        }
      ]
    },
    {
      "cell_type": "code",
      "metadata": {
        "colab": {
          "base_uri": "https://localhost:8080/"
        },
        "id": "zYejoB2mZoB1",
        "outputId": "6e0b428f-39d8-49b6-dcc4-924b9c18c4cb"
      },
      "source": [
        "model_logreg.score(X_test, Y_test)"
      ],
      "execution_count": null,
      "outputs": [
        {
          "output_type": "execute_result",
          "data": {
            "text/plain": [
              "0.5612323491655969"
            ]
          },
          "metadata": {
            "tags": []
          },
          "execution_count": 60
        }
      ]
    },
    {
      "cell_type": "code",
      "metadata": {
        "id": "zFOF-G6gZs_J"
      },
      "source": [
        "# probemos con mas modelos "
      ],
      "execution_count": null,
      "outputs": []
    },
    {
      "cell_type": "code",
      "metadata": {
        "id": "QS-6HC_lZwzD"
      },
      "source": [
        "# otras evaluaciones \n",
        "from sklearn.metrics import accuracy_score, log_loss\n",
        "\n",
        "# otros modelos\n",
        "from sklearn.neighbors import KNeighborsClassifier\n",
        "from sklearn.tree import DecisionTreeClassifier\n",
        "from sklearn.ensemble import RandomForestClassifier\n",
        "from sklearn.linear_model import LogisticRegression"
      ],
      "execution_count": null,
      "outputs": []
    },
    {
      "cell_type": "code",
      "metadata": {
        "id": "2Ffwvn-raCOI"
      },
      "source": [
        "# 4 modelos\n",
        "models = [KNeighborsClassifier(3), \n",
        "          DecisionTreeClassifier(),\n",
        "          RandomForestClassifier(),\n",
        "          LogisticRegression()\n",
        "          ]"
      ],
      "execution_count": null,
      "outputs": []
    },
    {
      "cell_type": "code",
      "metadata": {
        "id": "oGeg-zgAaZBT"
      },
      "source": [
        "# logs\n",
        "log_cols = [\"Classifier\", \"Accuracy\"]\n",
        "log = pd.DataFrame(columns=log_cols)\n",
        "\n",
        "# accuracy\n",
        "acc_dict = {}"
      ],
      "execution_count": null,
      "outputs": []
    },
    {
      "cell_type": "code",
      "metadata": {
        "colab": {
          "base_uri": "https://localhost:8080/"
        },
        "id": "Vc4vb1iIabDH",
        "outputId": "8aba4f6c-3211-48ef-dae6-6b2edd0d8009"
      },
      "source": [
        "# for para que entrene el X_train, Y_train con los 4 modelos\n",
        "\n",
        "for clf in models:\n",
        "  name = clf.__class__.__name__\n",
        "  clf.fit(X_train, Y_train)\n",
        "  \n",
        "  y_pred = clf.predict(X_test)\n",
        "\n",
        "  acc = accuracy_score(Y_test, y_pred)\n",
        "\n",
        "  if name in acc_dict:\n",
        "        acc_dict[name] += acc\n",
        "  else:\n",
        "        acc_dict[name] = acc"
      ],
      "execution_count": null,
      "outputs": [
        {
          "output_type": "stream",
          "text": [
            "/usr/local/lib/python3.7/dist-packages/sklearn/linear_model/_logistic.py:940: ConvergenceWarning: lbfgs failed to converge (status=1):\n",
            "STOP: TOTAL NO. of ITERATIONS REACHED LIMIT.\n",
            "\n",
            "Increase the number of iterations (max_iter) or scale the data as shown in:\n",
            "    https://scikit-learn.org/stable/modules/preprocessing.html\n",
            "Please also refer to the documentation for alternative solver options:\n",
            "    https://scikit-learn.org/stable/modules/linear_model.html#logistic-regression\n",
            "  extra_warning_msg=_LOGISTIC_SOLVER_CONVERGENCE_MSG)\n"
          ],
          "name": "stderr"
        }
      ]
    },
    {
      "cell_type": "code",
      "metadata": {
        "id": "TD7L2q8bcnF1"
      },
      "source": [
        "# iterar sobre acc_dict (diccionario accuracy)\n",
        "\n",
        "for clf in acc_dict:\n",
        "    acc_dict[clf] = acc_dict[clf] / 10.0\n",
        "    log_entry = pd.DataFrame([[clf, acc_dict[clf]]], columns=log_cols)\n",
        "    log = log.append(log_entry)"
      ],
      "execution_count": null,
      "outputs": []
    },
    {
      "cell_type": "code",
      "metadata": {
        "colab": {
          "base_uri": "https://localhost:8080/",
          "height": 318
        },
        "id": "7CCDVBArc5pD",
        "outputId": "3a63cdb0-8190-4bd6-d48b-755166557f3c"
      },
      "source": [
        "# graficar resultados \n",
        "\n",
        "plt.xlabel('Accuracy')\n",
        "plt.title('Classifier Accuracy')\n",
        "\n",
        "sns.set_color_codes(\"muted\")\n",
        "sns.barplot(x='Accuracy', y='Classifier', data=log, color=\"b\")"
      ],
      "execution_count": null,
      "outputs": [
        {
          "output_type": "execute_result",
          "data": {
            "text/plain": [
              "<matplotlib.axes._subplots.AxesSubplot at 0x7f21b3eee250>"
            ]
          },
          "metadata": {
            "tags": []
          },
          "execution_count": 72
        },
        {
          "output_type": "display_data",
          "data": {
            "image/png": "[encoded data removed]",
            "text/plain": [
              "<Figure size 432x288 with 1 Axes>"
            ]
          },
          "metadata": {
            "tags": []
          }
        }
      ]
    },
    {
      "cell_type": "code",
      "metadata": {
        "id": "hRgZB4StdDQz"
      },
      "source": [
        ""
      ],
      "execution_count": null,
      "outputs": []
    }
  ]
}